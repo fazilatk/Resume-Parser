{
  "nbformat": 4,
  "nbformat_minor": 0,
  "metadata": {
    "colab": {
      "name": "Resume Parser.ipynb",
      "provenance": [],
      "collapsed_sections": []
    },
    "kernelspec": {
      "name": "python3",
      "display_name": "Python 3"
    },
    "language_info": {
      "name": "python"
    }
  },
  "cells": [
    {
      "cell_type": "code",
      "source": [
        "import PyPDF2"
      ],
      "metadata": {
        "id": "NBbm_eXQwHRl"
      },
      "execution_count": 9,
      "outputs": []
    },
    {
      "cell_type": "code",
      "source": [
        "import nltk"
      ],
      "metadata": {
        "id": "4imHeszm3SUB"
      },
      "execution_count": 3,
      "outputs": []
    },
    {
      "cell_type": "code",
      "source": [
        "files = '/content/Fazil Resume.pdf'"
      ],
      "metadata": {
        "id": "YoWg5BSi3Pzd"
      },
      "execution_count": 19,
      "outputs": []
    },
    {
      "cell_type": "code",
      "source": [
        "pdfreader = PyPDF2.PdfReader(files)"
      ],
      "metadata": {
        "id": "542yqwaV4hFE"
      },
      "execution_count": 20,
      "outputs": []
    },
    {
      "cell_type": "code",
      "source": [
        "page = pdfreader.getPage(0)\n",
        "page1 = page.extractText()"
      ],
      "metadata": {
        "id": "V-q8J-g96rmv"
      },
      "execution_count": 21,
      "outputs": []
    },
    {
      "cell_type": "code",
      "source": [
        "page1"
      ],
      "metadata": {
        "colab": {
          "base_uri": "https://localhost:8080/",
          "height": 140
        },
        "id": "hBctGMg97m7S",
        "outputId": "96a0ac10-0ba9-47df-bfbd-aae16a312a8e"
      },
      "execution_count": 22,
      "outputs": [
        {
          "output_type": "execute_result",
          "data": {
            "text/plain": [
              "'MUHAMMED FAZIL A T K \\nComputer Science Engineering Graduate \\nA self-motivated graduate who is enthusiastic about new technologies and skills. \\nfazilatk75@gmail.com \\n+917356351049 \\nKozhikode, India \\nlinkedin.com/in/muhammed-\\nfazil-a-t-k-101371193 \\n@fazilaboobackar \\ngithub.com/fazilatk \\nSKILLS \\nPYTHON \\nSPARK \\nHIVE \\nMYSQL \\nPIG \\nHADOOP \\nSQOOP \\nBIG DATA \\nMACHINE LEARNING \\nDEEP LEARNING \\nAI \\nTABLEAU \\nAWS \\nLANGUAGES \\nEnglish \\nFull Professional Proﬁciency \\nMalayalam \\nNative or Bilingual Proﬁciency \\nTamil \\nElementary Proﬁciency \\nINTERESTS \\nData Science \\nData Analysis \\nPen Testing \\nGraphic Designing \\nEDUCATION \\nB.E Computer Science \\nP A College of Engineering \\n08/2017 - 08/2021\\n, \\n \\nB.E in Computer Science and Engineering -\\nCGPA 6.38 \\nHSE \\nSI Higher Secondary School \\n06/2015 - 03/2017\\n, \\n \\nComputer Science - 62.5% \\nXth \\nDarul Huda English Medium School \\n04/2014 - 03/2015\\n, \\n \\nCGPA - 9.4 \\nINTERNSHIP & TRAINING \\nData Science - Big Data with Cloud and Tableau \\nLuminar Technolab \\n09/2021 - Present\\n, \\n \\nCurrently \\ncompleting internship and training under special team of trainers \\nAndroid Development \\nZephyr Technologies & solutions Pvt.Ltd. \\n04/2021 - 05/2021\\n, \\n \\nCERTIFICATES \\nCertiﬁcation in Certiﬁed Penetration Tester (CPT) - 80Hrs \\nCourse completed from REDTEAM HACKER ACADEMY \\nCertiﬁcate in MSP430-an Online Contest. (02/2019) \\nOrganized by TEXAS INSTRUMENTS \\nCertiﬁcate in TIVA-an Online Contest. (02/2019) \\nOrganized by TEXAS INSTRUMENTS \\nPERSONAL PROJECTS \\nDETECTION OF ABNORMAL BEHAVIOR FOR DEMENTIA SUFFERERS USING CNN \\nProject developed Using Convolutional Neural Network \\nCAR PARKING MANAGEMENT SYSTEM \\nThe Project based on PHP and Database management System \\nMOBILE CONTROLLED DOOR LOCK SYSTEM \\nMini Project developed using ARDUINO and BLUETOOTH component \\nCourses \\nCourses \\nCourses '"
            ],
            "application/vnd.google.colaboratory.intrinsic+json": {
              "type": "string"
            }
          },
          "metadata": {},
          "execution_count": 22
        }
      ]
    },
    {
      "cell_type": "code",
      "source": [
        "from nltk import word_tokenize"
      ],
      "metadata": {
        "id": "Hsthnb-XMSZ2"
      },
      "execution_count": 27,
      "outputs": []
    },
    {
      "cell_type": "code",
      "source": [
        "tokenized = word_tokenize(page1)"
      ],
      "metadata": {
        "id": "HRRCdvWPHa-b"
      },
      "execution_count": 35,
      "outputs": []
    },
    {
      "cell_type": "code",
      "source": [
        "tokenized"
      ],
      "metadata": {
        "colab": {
          "base_uri": "https://localhost:8080/"
        },
        "id": "G1i2I49xaNH4",
        "outputId": "261f2ce1-d208-4742-d9ba-0a0f19dbc2be"
      },
      "execution_count": 38,
      "outputs": [
        {
          "output_type": "execute_result",
          "data": {
            "text/plain": [
              "['MUHAMMED',\n",
              " 'FAZIL',\n",
              " 'A',\n",
              " 'T',\n",
              " 'K',\n",
              " 'Computer',\n",
              " 'Science',\n",
              " 'Engineering',\n",
              " 'Graduate',\n",
              " 'A',\n",
              " 'self-motivated',\n",
              " 'graduate',\n",
              " 'who',\n",
              " 'is',\n",
              " 'enthusiastic',\n",
              " 'about',\n",
              " 'new',\n",
              " 'technologies',\n",
              " 'and',\n",
              " 'skills',\n",
              " '.',\n",
              " 'fazilatk75',\n",
              " '@',\n",
              " 'gmail.com',\n",
              " '+917356351049',\n",
              " 'Kozhikode',\n",
              " ',',\n",
              " 'India',\n",
              " 'linkedin.com/in/muhammed-',\n",
              " 'fazil-a-t-k-101371193',\n",
              " '@',\n",
              " 'fazilaboobackar',\n",
              " 'github.com/fazilatk',\n",
              " 'SKILLS',\n",
              " 'PYTHON',\n",
              " 'SPARK',\n",
              " 'HIVE',\n",
              " 'MYSQL',\n",
              " 'PIG',\n",
              " 'HADOOP',\n",
              " 'SQOOP',\n",
              " 'BIG',\n",
              " 'DATA',\n",
              " 'MACHINE',\n",
              " 'LEARNING',\n",
              " 'DEEP',\n",
              " 'LEARNING',\n",
              " 'AI',\n",
              " 'TABLEAU',\n",
              " 'AWS',\n",
              " 'LANGUAGES',\n",
              " 'English',\n",
              " 'Full',\n",
              " 'Professional',\n",
              " 'Proﬁciency',\n",
              " 'Malayalam',\n",
              " 'Native',\n",
              " 'or',\n",
              " 'Bilingual',\n",
              " 'Proﬁciency',\n",
              " 'Tamil',\n",
              " 'Elementary',\n",
              " 'Proﬁciency',\n",
              " 'INTERESTS',\n",
              " 'Data',\n",
              " 'Science',\n",
              " 'Data',\n",
              " 'Analysis',\n",
              " 'Pen',\n",
              " 'Testing',\n",
              " 'Graphic',\n",
              " 'Designing',\n",
              " 'EDUCATION',\n",
              " 'B.E',\n",
              " 'Computer',\n",
              " 'Science',\n",
              " 'P',\n",
              " 'A',\n",
              " 'College',\n",
              " 'of',\n",
              " 'Engineering',\n",
              " '08/2017',\n",
              " '-',\n",
              " '08/2021',\n",
              " ',',\n",
              " 'B.E',\n",
              " 'in',\n",
              " 'Computer',\n",
              " 'Science',\n",
              " 'and',\n",
              " 'Engineering',\n",
              " '-',\n",
              " 'CGPA',\n",
              " '6.38',\n",
              " 'HSE',\n",
              " 'SI',\n",
              " 'Higher',\n",
              " 'Secondary',\n",
              " 'School',\n",
              " '06/2015',\n",
              " '-',\n",
              " '03/2017',\n",
              " ',',\n",
              " 'Computer',\n",
              " 'Science',\n",
              " '-',\n",
              " '62.5',\n",
              " '%',\n",
              " 'Xth',\n",
              " 'Darul',\n",
              " 'Huda',\n",
              " 'English',\n",
              " 'Medium',\n",
              " 'School',\n",
              " '04/2014',\n",
              " '-',\n",
              " '03/2015',\n",
              " ',',\n",
              " 'CGPA',\n",
              " '-',\n",
              " '9.4',\n",
              " 'INTERNSHIP',\n",
              " '&',\n",
              " 'TRAINING',\n",
              " 'Data',\n",
              " 'Science',\n",
              " '-',\n",
              " 'Big',\n",
              " 'Data',\n",
              " 'with',\n",
              " 'Cloud',\n",
              " 'and',\n",
              " 'Tableau',\n",
              " 'Luminar',\n",
              " 'Technolab',\n",
              " '09/2021',\n",
              " '-',\n",
              " 'Present',\n",
              " ',',\n",
              " 'Currently',\n",
              " 'completing',\n",
              " 'internship',\n",
              " 'and',\n",
              " 'training',\n",
              " 'under',\n",
              " 'special',\n",
              " 'team',\n",
              " 'of',\n",
              " 'trainers',\n",
              " 'Android',\n",
              " 'Development',\n",
              " 'Zephyr',\n",
              " 'Technologies',\n",
              " '&',\n",
              " 'solutions',\n",
              " 'Pvt.Ltd',\n",
              " '.',\n",
              " '04/2021',\n",
              " '-',\n",
              " '05/2021',\n",
              " ',',\n",
              " 'CERTIFICATES',\n",
              " 'Certiﬁcation',\n",
              " 'in',\n",
              " 'Certiﬁed',\n",
              " 'Penetration',\n",
              " 'Tester',\n",
              " '(',\n",
              " 'CPT',\n",
              " ')',\n",
              " '-',\n",
              " '80Hrs',\n",
              " 'Course',\n",
              " 'completed',\n",
              " 'from',\n",
              " 'REDTEAM',\n",
              " 'HACKER',\n",
              " 'ACADEMY',\n",
              " 'Certiﬁcate',\n",
              " 'in',\n",
              " 'MSP430-an',\n",
              " 'Online',\n",
              " 'Contest',\n",
              " '.',\n",
              " '(',\n",
              " '02/2019',\n",
              " ')',\n",
              " 'Organized',\n",
              " 'by',\n",
              " 'TEXAS',\n",
              " 'INSTRUMENTS',\n",
              " 'Certiﬁcate',\n",
              " 'in',\n",
              " 'TIVA-an',\n",
              " 'Online',\n",
              " 'Contest',\n",
              " '.',\n",
              " '(',\n",
              " '02/2019',\n",
              " ')',\n",
              " 'Organized',\n",
              " 'by',\n",
              " 'TEXAS',\n",
              " 'INSTRUMENTS',\n",
              " 'PERSONAL',\n",
              " 'PROJECTS',\n",
              " 'DETECTION',\n",
              " 'OF',\n",
              " 'ABNORMAL',\n",
              " 'BEHAVIOR',\n",
              " 'FOR',\n",
              " 'DEMENTIA',\n",
              " 'SUFFERERS',\n",
              " 'USING',\n",
              " 'CNN',\n",
              " 'Project',\n",
              " 'developed',\n",
              " 'Using',\n",
              " 'Convolutional',\n",
              " 'Neural',\n",
              " 'Network',\n",
              " 'CAR',\n",
              " 'PARKING',\n",
              " 'MANAGEMENT',\n",
              " 'SYSTEM',\n",
              " 'The',\n",
              " 'Project',\n",
              " 'based',\n",
              " 'on',\n",
              " 'PHP',\n",
              " 'and',\n",
              " 'Database',\n",
              " 'management',\n",
              " 'System',\n",
              " 'MOBILE',\n",
              " 'CONTROLLED',\n",
              " 'DOOR',\n",
              " 'LOCK',\n",
              " 'SYSTEM',\n",
              " 'Mini',\n",
              " 'Project',\n",
              " 'developed',\n",
              " 'using',\n",
              " 'ARDUINO',\n",
              " 'and',\n",
              " 'BLUETOOTH',\n",
              " 'component',\n",
              " 'Courses',\n",
              " 'Courses',\n",
              " 'Courses']"
            ]
          },
          "metadata": {},
          "execution_count": 38
        }
      ]
    },
    {
      "cell_type": "code",
      "source": [
        "#page11 = [x.replace('\\n','') for x in tokenized]"
      ],
      "metadata": {
        "id": "SJPHQtBkQ4lG"
      },
      "execution_count": 36,
      "outputs": []
    },
    {
      "cell_type": "code",
      "source": [
        "import re"
      ],
      "metadata": {
        "id": "gXS86qm3dLOU"
      },
      "execution_count": 48,
      "outputs": []
    },
    {
      "cell_type": "code",
      "source": [
        "emails = re.findall(r\"[a-z0-9\\.\\-+_]+@[a-z0-9\\.\\-+_]+\\.[a-z]+\", page1)\n",
        "\n",
        "print(emails)"
      ],
      "metadata": {
        "colab": {
          "base_uri": "https://localhost:8080/"
        },
        "id": "Cxha9xQOmX3A",
        "outputId": "9c4247eb-89ac-4517-cd96-b38bfc386e2d"
      },
      "execution_count": 85,
      "outputs": [
        {
          "output_type": "stream",
          "name": "stdout",
          "text": [
            "['fazilatk75@gmail.com']\n"
          ]
        }
      ]
    },
    {
      "cell_type": "code",
      "source": [
        "phone = re.findall(r'\\d\\d\\d\\d\\d\\d\\d\\d\\d\\d\\d\\d', page1)\n",
        "if len(phone)<1:\n",
        "  phone = re.findall(r'\\d\\d\\d\\d\\d\\d\\d\\d\\d\\d', page1)\n",
        "\n",
        "print(phone)"
      ],
      "metadata": {
        "colab": {
          "base_uri": "https://localhost:8080/"
        },
        "id": "MeFiq4Kmm-s6",
        "outputId": "401dd9b8-c663-4d4e-eff2-b81446dd257d"
      },
      "execution_count": 97,
      "outputs": [
        {
          "output_type": "stream",
          "name": "stdout",
          "text": [
            "['917356351049']\n"
          ]
        }
      ]
    },
    {
      "cell_type": "code",
      "source": [
        "new = page1[0:250]\n",
        "new"
      ],
      "metadata": {
        "colab": {
          "base_uri": "https://localhost:8080/",
          "height": 53
        },
        "id": "cL1CA4Qo7cRN",
        "outputId": "a358049a-a9a8-4097-f2d3-85e4edae3583"
      },
      "execution_count": 114,
      "outputs": [
        {
          "output_type": "execute_result",
          "data": {
            "text/plain": [
              "'MUHAMMED FAZIL A T K \\nComputer Science Engineering Graduate \\nA self-motivated graduate who is enthusiastic about new technologies and skills. \\nfazilatk75@gmail.com \\n+917356351049 \\nKozhikode, India \\nlinkedin.com/in/muhammed-\\nfazil-a-t-k-101371193 \\n@fa'"
            ],
            "application/vnd.google.colaboratory.intrinsic+json": {
              "type": "string"
            }
          },
          "metadata": {},
          "execution_count": 114
        }
      ]
    },
    {
      "cell_type": "code",
      "source": [
        "import spacy\n",
        "\n",
        "nlp = spacy.load(\"en_core_web_sm\")\n",
        "doc = nlp(new)\n",
        "\n",
        "for ent in doc.ents:\n",
        "    print(ent.text, ent.start_char, ent.end_char, ent.label_)"
      ],
      "metadata": {
        "colab": {
          "base_uri": "https://localhost:8080/"
        },
        "id": "DYK8CwOV9hwE",
        "outputId": "fd8cfd93-2e98-4480-f1c1-10e888603756"
      },
      "execution_count": 112,
      "outputs": [
        {
          "output_type": "stream",
          "name": "stdout",
          "text": [
            "+917356351049 \n",
            "Kozhikode 165 189 PERSON\n",
            "India 191 196 GPE\n"
          ]
        }
      ]
    },
    {
      "cell_type": "code",
      "source": [],
      "metadata": {
        "id": "LZRijHST9-Yl"
      },
      "execution_count": null,
      "outputs": []
    }
  ]
}