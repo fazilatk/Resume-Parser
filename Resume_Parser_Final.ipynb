{
  "nbformat": 4,
  "nbformat_minor": 0,
  "metadata": {
    "colab": {
      "name": "Resume Parser.ipynb",
      "provenance": [],
      "collapsed_sections": []
    },
    "kernelspec": {
      "name": "python3",
      "display_name": "Python 3"
    },
    "language_info": {
      "name": "python"
    }
  },
  "cells": [
    {
      "cell_type": "code",
      "source": [
        "import PyPDF2"
      ],
      "metadata": {
        "id": "NBbm_eXQwHRl"
      },
      "execution_count": 1,
      "outputs": []
    },
    {
      "cell_type": "code",
      "source": [
        "import nltk"
      ],
      "metadata": {
        "id": "4imHeszm3SUB"
      },
      "execution_count": 2,
      "outputs": []
    },
    {
      "cell_type": "code",
      "source": [
        "files = '/content/Fazil Resume.pdf'"
      ],
      "metadata": {
        "id": "YoWg5BSi3Pzd"
      },
      "execution_count": 3,
      "outputs": []
    },
    {
      "cell_type": "code",
      "source": [
        "pdfreader = PyPDF2.PdfReader(files)"
      ],
      "metadata": {
        "id": "542yqwaV4hFE"
      },
      "execution_count": 4,
      "outputs": []
    },
    {
      "cell_type": "code",
      "source": [
        "page = pdfreader.getPage(0)\n",
        "page1 = page.extractText()"
      ],
      "metadata": {
        "id": "V-q8J-g96rmv"
      },
      "execution_count": 5,
      "outputs": []
    },
    {
      "cell_type": "code",
      "source": [
        "from nltk import word_tokenize"
      ],
      "metadata": {
        "id": "Hsthnb-XMSZ2"
      },
      "execution_count": 6,
      "outputs": []
    },
    {
      "cell_type": "code",
      "source": [
        "tokenized = word_tokenize(page1)"
      ],
      "metadata": {
        "id": "HRRCdvWPHa-b"
      },
      "execution_count": 7,
      "outputs": []
    },
    {
      "cell_type": "code",
      "source": [
        "#page11 = [x.replace('\\n','') for x in tokenized]"
      ],
      "metadata": {
        "id": "SJPHQtBkQ4lG"
      },
      "execution_count": 8,
      "outputs": []
    },
    {
      "cell_type": "code",
      "source": [
        "import re"
      ],
      "metadata": {
        "id": "gXS86qm3dLOU"
      },
      "execution_count": 9,
      "outputs": []
    },
    {
      "cell_type": "code",
      "source": [
        "emails = re.findall(r\"[a-z0-9\\.\\-+_]+@[a-z0-9\\.\\-+_]+\\.[a-z]+\", page1)\n",
        "\n",
        "#print(emails)"
      ],
      "metadata": {
        "id": "Cxha9xQOmX3A"
      },
      "execution_count": 10,
      "outputs": []
    },
    {
      "cell_type": "code",
      "source": [
        "phone = re.findall(r'\\d\\d\\d\\d\\d\\d\\d\\d\\d\\d\\d\\d', page1)\n",
        "if len(phone)<1:\n",
        "  phone = re.findall(r'\\d\\d\\d\\d\\d\\d\\d\\d\\d\\d', page1)\n",
        "\n",
        "#print(phone)"
      ],
      "metadata": {
        "id": "MeFiq4Kmm-s6"
      },
      "execution_count": 11,
      "outputs": []
    },
    {
      "cell_type": "code",
      "source": [
        "new = page1[0:250]\n",
        "#new"
      ],
      "metadata": {
        "id": "cL1CA4Qo7cRN"
      },
      "execution_count": 12,
      "outputs": []
    },
    {
      "cell_type": "code",
      "source": [
        "import spacy\n",
        "\n",
        "nlp = spacy.load(\"en_core_web_lg\")\n",
        "doc = nlp(new)\n",
        "\n",
        "for ent in doc.ents:\n",
        "  if ent.label_ == 'PERSON' or ent.label_ == 'ORG':\n",
        "    fullname = ent.text\n",
        "    break\n",
        "  #print(ent.text,ent.start_char,ent.end_char,ent.label_)"
      ],
      "metadata": {
        "id": "DYK8CwOV9hwE"
      },
      "execution_count": 13,
      "outputs": []
    },
    {
      "cell_type": "code",
      "source": [
        "skilldata = ['Python','Spark','Hive','Sql','Pig','Bigdata','Big data','Machine learning','Deep Learning','AI','Artificial Intelligence','C','PHP','C++','C#','C Shark','Shell Script','HTML','CSS','JavaScript','Java','Angular','Django','Flask','Laravel','MySQL','SQLite','MongoDB','Git','NLP','Scikit','OpenCV','Cloud','GCP','Azure','DigitalOcean','AWS','Tableau','sqoop','Scala','R']\n",
        "skilldatas = [x.lower() for x in skilldata]"
      ],
      "metadata": {
        "id": "E2YW-3Nxq_Y_"
      },
      "execution_count": 14,
      "outputs": []
    },
    {
      "cell_type": "code",
      "source": [
        "skills = []\n",
        "for i in tokenized:\n",
        "  if i.lower() in skilldatas:\n",
        "    skills.append(i)"
      ],
      "metadata": {
        "id": "K-zJzegAz2-h"
      },
      "execution_count": 15,
      "outputs": []
    },
    {
      "cell_type": "code",
      "source": [
        "readpdf = PyPDF2.PdfFileReader(files)\n",
        "if readpdf.numPages>1:\n",
        "  page02 = pdfreader.getPage(1)\n",
        "  page2 = page02.extractText()\n",
        "  tokenizedp2 = word_tokenize(page2)\n",
        "  for i in tokenizedp2:\n",
        "    if i.lower() in skilldatas:\n",
        "      skills.append(i)\n",
        "if readpdf.numPages>2:\n",
        "  page03 = pdfreader.getPage(2)\n",
        "  page3 = page03.extractText()\n",
        "  tokenizedp2 = word_tokenize(page3)\n",
        "  for i in tokenizedp2:\n",
        "    if i.lower() in skilldatas:\n",
        "      skills.append(i)"
      ],
      "metadata": {
        "id": "mtOU2bi9uOOO"
      },
      "execution_count": 16,
      "outputs": []
    },
    {
      "cell_type": "code",
      "source": [
        "#skills"
      ],
      "metadata": {
        "id": "tUFqskCJwaGz"
      },
      "execution_count": 17,
      "outputs": []
    },
    {
      "cell_type": "code",
      "source": [
        "details = {'Name':fullname,'EmailID':emails,'ContactNo':phone}"
      ],
      "metadata": {
        "id": "DRaU4fO9ws4d"
      },
      "execution_count": 18,
      "outputs": []
    },
    {
      "cell_type": "code",
      "source": [
        "print(details,\"Skill=\",skills)"
      ],
      "metadata": {
        "colab": {
          "base_uri": "https://localhost:8080/"
        },
        "id": "_RCOI6sTxS0b",
        "outputId": "f84ede1c-80fe-45d9-fd76-891f5024d1d3"
      },
      "execution_count": 19,
      "outputs": [
        {
          "output_type": "stream",
          "name": "stdout",
          "text": [
            "{'Name': 'MUHAMMED FAZIL', 'EmailID': ['fazilatk75@gmail.com'], 'ContactNo': ['917356351049']} Skill= ['PYTHON', 'SPARK', 'HIVE', 'MYSQL', 'PIG', 'SQOOP', 'AI', 'TABLEAU', 'AWS', 'Cloud', 'Tableau', 'PHP']\n"
          ]
        }
      ]
    },
    {
      "cell_type": "code",
      "source": [],
      "metadata": {
        "id": "KB__npGH6mb0"
      },
      "execution_count": 19,
      "outputs": []
    }
  ]
}